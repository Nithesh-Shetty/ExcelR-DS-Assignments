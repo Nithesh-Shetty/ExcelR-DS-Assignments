{
 "cells": [
  {
   "cell_type": "markdown",
   "id": "32a6090e",
   "metadata": {},
   "source": [
    "##### Problem Statement: \n",
    "Forecast the Airlines Passengers data set. Prepare a document for each model explaining \n",
    "how many dummy variables you have created and RMSE value for each model. Finally which model you will use for \n",
    "Forecasting."
   ]
  },
  {
   "cell_type": "code",
   "execution_count": 1,
   "id": "bb6b7110",
   "metadata": {},
   "outputs": [],
   "source": [
    "#Importing reqd libararies\n",
    "import pandas as pd\n",
    "import numpy as np\n",
    "import matplotlib.pyplot as plt\n",
    "%matplotlib inline\n",
    "import seaborn as sns"
   ]
  },
  {
   "cell_type": "code",
   "execution_count": 2,
   "id": "ecd54b49",
   "metadata": {},
   "outputs": [
    {
     "data": {
      "text/html": [
       "<div>\n",
       "<style scoped>\n",
       "    .dataframe tbody tr th:only-of-type {\n",
       "        vertical-align: middle;\n",
       "    }\n",
       "\n",
       "    .dataframe tbody tr th {\n",
       "        vertical-align: top;\n",
       "    }\n",
       "\n",
       "    .dataframe thead th {\n",
       "        text-align: right;\n",
       "    }\n",
       "</style>\n",
       "<table border=\"1\" class=\"dataframe\">\n",
       "  <thead>\n",
       "    <tr style=\"text-align: right;\">\n",
       "      <th></th>\n",
       "      <th>Month</th>\n",
       "      <th>Passengers</th>\n",
       "    </tr>\n",
       "  </thead>\n",
       "  <tbody>\n",
       "    <tr>\n",
       "      <th>0</th>\n",
       "      <td>1995-01-01</td>\n",
       "      <td>112</td>\n",
       "    </tr>\n",
       "    <tr>\n",
       "      <th>1</th>\n",
       "      <td>1995-02-01</td>\n",
       "      <td>118</td>\n",
       "    </tr>\n",
       "    <tr>\n",
       "      <th>2</th>\n",
       "      <td>1995-03-01</td>\n",
       "      <td>132</td>\n",
       "    </tr>\n",
       "    <tr>\n",
       "      <th>3</th>\n",
       "      <td>1995-04-01</td>\n",
       "      <td>129</td>\n",
       "    </tr>\n",
       "    <tr>\n",
       "      <th>4</th>\n",
       "      <td>1995-05-01</td>\n",
       "      <td>121</td>\n",
       "    </tr>\n",
       "  </tbody>\n",
       "</table>\n",
       "</div>"
      ],
      "text/plain": [
       "       Month  Passengers\n",
       "0 1995-01-01         112\n",
       "1 1995-02-01         118\n",
       "2 1995-03-01         132\n",
       "3 1995-04-01         129\n",
       "4 1995-05-01         121"
      ]
     },
     "execution_count": 2,
     "metadata": {},
     "output_type": "execute_result"
    }
   ],
   "source": [
    "#Loading the data\n",
    "df=pd.read_excel('Airlines+Data.xlsx')\n",
    "df.head()"
   ]
  },
  {
   "cell_type": "markdown",
   "id": "c30dc639",
   "metadata": {},
   "source": [
    "EDA"
   ]
  },
  {
   "cell_type": "code",
   "execution_count": 3,
   "id": "56d8eb54",
   "metadata": {},
   "outputs": [
    {
     "data": {
      "text/plain": [
       "Month         0\n",
       "Passengers    0\n",
       "dtype: int64"
      ]
     },
     "execution_count": 3,
     "metadata": {},
     "output_type": "execute_result"
    }
   ],
   "source": [
    "df.isnull().sum()"
   ]
  },
  {
   "cell_type": "code",
   "execution_count": 4,
   "id": "5cc5fd9f",
   "metadata": {},
   "outputs": [
    {
     "data": {
      "text/plain": [
       "False"
      ]
     },
     "execution_count": 4,
     "metadata": {},
     "output_type": "execute_result"
    }
   ],
   "source": [
    "df.duplicated().any()"
   ]
  },
  {
   "cell_type": "code",
   "execution_count": 5,
   "id": "6246d98f",
   "metadata": {},
   "outputs": [
    {
     "name": "stdout",
     "output_type": "stream",
     "text": [
      "<class 'pandas.core.frame.DataFrame'>\n",
      "RangeIndex: 96 entries, 0 to 95\n",
      "Data columns (total 2 columns):\n",
      " #   Column      Non-Null Count  Dtype         \n",
      "---  ------      --------------  -----         \n",
      " 0   Month       96 non-null     datetime64[ns]\n",
      " 1   Passengers  96 non-null     int64         \n",
      "dtypes: datetime64[ns](1), int64(1)\n",
      "memory usage: 1.6 KB\n"
     ]
    }
   ],
   "source": [
    "df.info()"
   ]
  },
  {
   "cell_type": "code",
   "execution_count": 6,
   "id": "1c865636",
   "metadata": {},
   "outputs": [],
   "source": [
    "df.set_index('Month',inplace=True)"
   ]
  },
  {
   "cell_type": "code",
   "execution_count": 7,
   "id": "2af712b7",
   "metadata": {},
   "outputs": [
    {
     "data": {
      "text/html": [
       "<div>\n",
       "<style scoped>\n",
       "    .dataframe tbody tr th:only-of-type {\n",
       "        vertical-align: middle;\n",
       "    }\n",
       "\n",
       "    .dataframe tbody tr th {\n",
       "        vertical-align: top;\n",
       "    }\n",
       "\n",
       "    .dataframe thead th {\n",
       "        text-align: right;\n",
       "    }\n",
       "</style>\n",
       "<table border=\"1\" class=\"dataframe\">\n",
       "  <thead>\n",
       "    <tr style=\"text-align: right;\">\n",
       "      <th></th>\n",
       "      <th>Passengers</th>\n",
       "    </tr>\n",
       "  </thead>\n",
       "  <tbody>\n",
       "    <tr>\n",
       "      <th>count</th>\n",
       "      <td>96.000000</td>\n",
       "    </tr>\n",
       "    <tr>\n",
       "      <th>mean</th>\n",
       "      <td>213.708333</td>\n",
       "    </tr>\n",
       "    <tr>\n",
       "      <th>std</th>\n",
       "      <td>71.918216</td>\n",
       "    </tr>\n",
       "    <tr>\n",
       "      <th>min</th>\n",
       "      <td>104.000000</td>\n",
       "    </tr>\n",
       "    <tr>\n",
       "      <th>25%</th>\n",
       "      <td>156.000000</td>\n",
       "    </tr>\n",
       "    <tr>\n",
       "      <th>50%</th>\n",
       "      <td>200.000000</td>\n",
       "    </tr>\n",
       "    <tr>\n",
       "      <th>75%</th>\n",
       "      <td>264.750000</td>\n",
       "    </tr>\n",
       "    <tr>\n",
       "      <th>max</th>\n",
       "      <td>413.000000</td>\n",
       "    </tr>\n",
       "  </tbody>\n",
       "</table>\n",
       "</div>"
      ],
      "text/plain": [
       "       Passengers\n",
       "count   96.000000\n",
       "mean   213.708333\n",
       "std     71.918216\n",
       "min    104.000000\n",
       "25%    156.000000\n",
       "50%    200.000000\n",
       "75%    264.750000\n",
       "max    413.000000"
      ]
     },
     "execution_count": 7,
     "metadata": {},
     "output_type": "execute_result"
    }
   ],
   "source": [
    "df.describe()"
   ]
  },
  {
   "cell_type": "markdown",
   "id": "59ca6a95",
   "metadata": {},
   "source": [
    "### Visualization"
   ]
  },
  {
   "cell_type": "code",
   "execution_count": 8,
   "id": "948e4125",
   "metadata": {},
   "outputs": [
    {
     "data": {
      "text/plain": [
       "<AxesSubplot:xlabel='Month'>"
      ]
     },
     "execution_count": 8,
     "metadata": {},
     "output_type": "execute_result"
    },
    {
     "data": {
      "image/png": "[encoded data removed]",
      "text/plain": [
       "<Figure size 432x288 with 1 Axes>"
      ]
     },
     "metadata": {
      "needs_background": "light"
     },
     "output_type": "display_data"
    }
   ],
   "source": [
    "df.plot()"
   ]
  },
  {
   "cell_type": "code",
   "execution_count": 9,
   "id": "63b9fc09",
   "metadata": {},
   "outputs": [],
   "source": [
    "df1=pd.read_excel(\"Airlines+Data.xlsx\")"
   ]
  },
  {
   "cell_type": "code",
   "execution_count": 10,
   "id": "af39328d",
   "metadata": {},
   "outputs": [
    {
     "data": {
      "text/html": [
       "<div>\n",
       "<style scoped>\n",
       "    .dataframe tbody tr th:only-of-type {\n",
       "        vertical-align: middle;\n",
       "    }\n",
       "\n",
       "    .dataframe tbody tr th {\n",
       "        vertical-align: top;\n",
       "    }\n",
       "\n",
       "    .dataframe thead th {\n",
       "        text-align: right;\n",
       "    }\n",
       "</style>\n",
       "<table border=\"1\" class=\"dataframe\">\n",
       "  <thead>\n",
       "    <tr style=\"text-align: right;\">\n",
       "      <th></th>\n",
       "      <th>Month</th>\n",
       "      <th>Passengers</th>\n",
       "      <th>month</th>\n",
       "      <th>year</th>\n",
       "    </tr>\n",
       "  </thead>\n",
       "  <tbody>\n",
       "    <tr>\n",
       "      <th>0</th>\n",
       "      <td>1995-01-01</td>\n",
       "      <td>112</td>\n",
       "      <td>Jan</td>\n",
       "      <td>1995</td>\n",
       "    </tr>\n",
       "    <tr>\n",
       "      <th>1</th>\n",
       "      <td>1995-02-01</td>\n",
       "      <td>118</td>\n",
       "      <td>Feb</td>\n",
       "      <td>1995</td>\n",
       "    </tr>\n",
       "    <tr>\n",
       "      <th>2</th>\n",
       "      <td>1995-03-01</td>\n",
       "      <td>132</td>\n",
       "      <td>Mar</td>\n",
       "      <td>1995</td>\n",
       "    </tr>\n",
       "    <tr>\n",
       "      <th>3</th>\n",
       "      <td>1995-04-01</td>\n",
       "      <td>129</td>\n",
       "      <td>Apr</td>\n",
       "      <td>1995</td>\n",
       "    </tr>\n",
       "    <tr>\n",
       "      <th>4</th>\n",
       "      <td>1995-05-01</td>\n",
       "      <td>121</td>\n",
       "      <td>May</td>\n",
       "      <td>1995</td>\n",
       "    </tr>\n",
       "  </tbody>\n",
       "</table>\n",
       "</div>"
      ],
      "text/plain": [
       "       Month  Passengers month  year\n",
       "0 1995-01-01         112   Jan  1995\n",
       "1 1995-02-01         118   Feb  1995\n",
       "2 1995-03-01         132   Mar  1995\n",
       "3 1995-04-01         129   Apr  1995\n",
       "4 1995-05-01         121   May  1995"
      ]
     },
     "execution_count": 10,
     "metadata": {},
     "output_type": "execute_result"
    }
   ],
   "source": [
    "#Get month and year columns in our data\n",
    "df1[\"month\"] = df1.Month.dt.strftime(\"%b\") \n",
    "df1[\"year\"] = df1.Month.dt.strftime(\"%Y\") \n",
    "df1.head()"
   ]
  },
  {
   "cell_type": "code",
   "execution_count": 11,
   "id": "bd2aeafe",
   "metadata": {},
   "outputs": [
    {
     "data": {
      "text/plain": [
       "<AxesSubplot:xlabel='month', ylabel='year'>"
      ]
     },
     "execution_count": 11,
     "metadata": {},
     "output_type": "execute_result"
    },
    {
     "data": {
      "image/png": "[encoded data removed]",
      "text/plain": [
       "<Figure size 864x576 with 2 Axes>"
      ]
     },
     "metadata": {
      "needs_background": "light"
     },
     "output_type": "display_data"
    }
   ],
   "source": [
    "#Heatmap\n",
    "plt.figure(figsize=(12,8))\n",
    "heatmap_y_month = pd.pivot_table(data=df1,values=\"Passengers\",index=\"year\",columns=\"month\",aggfunc=\"mean\",fill_value=0)\n",
    "sns.heatmap(heatmap_y_month,annot=True,fmt=\"g\")"
   ]
  },
  {
   "cell_type": "code",
   "execution_count": 12,
   "id": "bc4cabd0",
   "metadata": {},
   "outputs": [
    {
     "data": {
      "text/plain": [
       "<matplotlib.legend.Legend at 0x20b8b0d13d0>"
      ]
     },
     "execution_count": 12,
     "metadata": {},
     "output_type": "execute_result"
    },
    {
     "data": {
      "image/png": "[encoded data removed]",
      "text/plain": [
       "<Figure size 864x288 with 1 Axes>"
      ]
     },
     "metadata": {
      "needs_background": "light"
     },
     "output_type": "display_data"
    }
   ],
   "source": [
    "#Moving average\n",
    "plt.figure(figsize=(12,4))\n",
    "df1.Passengers.plot(label=\"org\")\n",
    "for i in range(2,30,8):\n",
    "    df1[\"Passengers\"].rolling(i).mean().plot(label=str(i))\n",
    "plt.legend(loc='best')"
   ]
  },
  {
   "cell_type": "code",
   "execution_count": 13,
   "id": "81e35909",
   "metadata": {},
   "outputs": [
    {
     "data": {
      "image/png": "[encoded data removed]",
      "text/plain": [
       "<Figure size 432x288 with 4 Axes>"
      ]
     },
     "metadata": {
      "needs_background": "light"
     },
     "output_type": "display_data"
    }
   ],
   "source": [
    "from statsmodels.tsa.seasonal import seasonal_decompose\n",
    "decompose_ts_add = seasonal_decompose(df1.Passengers,period=12)\n",
    "decompose_ts_add.plot()\n",
    "plt.show() "
   ]
  },
  {
   "cell_type": "code",
   "execution_count": 14,
   "id": "3874acce",
   "metadata": {},
   "outputs": [
    {
     "data": {
      "image/png": "[encoded data removed]",
      "text/plain": [
       "<Figure size 432x288 with 1 Axes>"
      ]
     },
     "metadata": {
      "needs_background": "light"
     },
     "output_type": "display_data"
    }
   ],
   "source": [
    "from statsmodels.graphics.tsaplots import plot_acf,plot_pacf\n",
    "acf = plot_acf(df[\"Passengers\"]) "
   ]
  },
  {
   "cell_type": "code",
   "execution_count": 15,
   "id": "1e269a67",
   "metadata": {},
   "outputs": [
    {
     "data": {
      "image/png": "[encoded data removed]",
      "text/plain": [
       "<Figure size 432x288 with 1 Axes>"
      ]
     },
     "metadata": {
      "needs_background": "light"
     },
     "output_type": "display_data"
    }
   ],
   "source": [
    "pacf = plot_pacf(df[\"Passengers\"]) "
   ]
  },
  {
   "cell_type": "code",
   "execution_count": 16,
   "id": "8a3d97be",
   "metadata": {},
   "outputs": [],
   "source": [
    "df1['year'] = df1['year'].astype(\"int64\")"
   ]
  },
  {
   "cell_type": "code",
   "execution_count": 17,
   "id": "abc0eef1",
   "metadata": {},
   "outputs": [
    {
     "data": {
      "text/plain": [
       "Index(['Month', 'Passengers', 'month', 'year'], dtype='object')"
      ]
     },
     "execution_count": 17,
     "metadata": {},
     "output_type": "execute_result"
    }
   ],
   "source": [
    "df1.columns"
   ]
  },
  {
   "cell_type": "code",
   "execution_count": 18,
   "id": "f10b8b22",
   "metadata": {},
   "outputs": [],
   "source": [
    "#Converting month column from categorical to numerical by One Hot Encoding\n",
    "df2 = pd.get_dummies(df1)"
   ]
  },
  {
   "cell_type": "code",
   "execution_count": 19,
   "id": "99450326",
   "metadata": {},
   "outputs": [
    {
     "data": {
      "text/html": [
       "<div>\n",
       "<style scoped>\n",
       "    .dataframe tbody tr th:only-of-type {\n",
       "        vertical-align: middle;\n",
       "    }\n",
       "\n",
       "    .dataframe tbody tr th {\n",
       "        vertical-align: top;\n",
       "    }\n",
       "\n",
       "    .dataframe thead th {\n",
       "        text-align: right;\n",
       "    }\n",
       "</style>\n",
       "<table border=\"1\" class=\"dataframe\">\n",
       "  <thead>\n",
       "    <tr style=\"text-align: right;\">\n",
       "      <th></th>\n",
       "      <th>Month</th>\n",
       "      <th>Passengers</th>\n",
       "      <th>year</th>\n",
       "      <th>month_Apr</th>\n",
       "      <th>month_Aug</th>\n",
       "      <th>month_Dec</th>\n",
       "      <th>month_Feb</th>\n",
       "      <th>month_Jan</th>\n",
       "      <th>month_Jul</th>\n",
       "      <th>month_Jun</th>\n",
       "      <th>month_Mar</th>\n",
       "      <th>month_May</th>\n",
       "      <th>month_Nov</th>\n",
       "      <th>month_Oct</th>\n",
       "      <th>month_Sep</th>\n",
       "    </tr>\n",
       "  </thead>\n",
       "  <tbody>\n",
       "    <tr>\n",
       "      <th>0</th>\n",
       "      <td>1995-01-01</td>\n",
       "      <td>112</td>\n",
       "      <td>1995</td>\n",
       "      <td>0</td>\n",
       "      <td>0</td>\n",
       "      <td>0</td>\n",
       "      <td>0</td>\n",
       "      <td>1</td>\n",
       "      <td>0</td>\n",
       "      <td>0</td>\n",
       "      <td>0</td>\n",
       "      <td>0</td>\n",
       "      <td>0</td>\n",
       "      <td>0</td>\n",
       "      <td>0</td>\n",
       "    </tr>\n",
       "    <tr>\n",
       "      <th>1</th>\n",
       "      <td>1995-02-01</td>\n",
       "      <td>118</td>\n",
       "      <td>1995</td>\n",
       "      <td>0</td>\n",
       "      <td>0</td>\n",
       "      <td>0</td>\n",
       "      <td>1</td>\n",
       "      <td>0</td>\n",
       "      <td>0</td>\n",
       "      <td>0</td>\n",
       "      <td>0</td>\n",
       "      <td>0</td>\n",
       "      <td>0</td>\n",
       "      <td>0</td>\n",
       "      <td>0</td>\n",
       "    </tr>\n",
       "    <tr>\n",
       "      <th>2</th>\n",
       "      <td>1995-03-01</td>\n",
       "      <td>132</td>\n",
       "      <td>1995</td>\n",
       "      <td>0</td>\n",
       "      <td>0</td>\n",
       "      <td>0</td>\n",
       "      <td>0</td>\n",
       "      <td>0</td>\n",
       "      <td>0</td>\n",
       "      <td>0</td>\n",
       "      <td>1</td>\n",
       "      <td>0</td>\n",
       "      <td>0</td>\n",
       "      <td>0</td>\n",
       "      <td>0</td>\n",
       "    </tr>\n",
       "    <tr>\n",
       "      <th>3</th>\n",
       "      <td>1995-04-01</td>\n",
       "      <td>129</td>\n",
       "      <td>1995</td>\n",
       "      <td>1</td>\n",
       "      <td>0</td>\n",
       "      <td>0</td>\n",
       "      <td>0</td>\n",
       "      <td>0</td>\n",
       "      <td>0</td>\n",
       "      <td>0</td>\n",
       "      <td>0</td>\n",
       "      <td>0</td>\n",
       "      <td>0</td>\n",
       "      <td>0</td>\n",
       "      <td>0</td>\n",
       "    </tr>\n",
       "    <tr>\n",
       "      <th>4</th>\n",
       "      <td>1995-05-01</td>\n",
       "      <td>121</td>\n",
       "      <td>1995</td>\n",
       "      <td>0</td>\n",
       "      <td>0</td>\n",
       "      <td>0</td>\n",
       "      <td>0</td>\n",
       "      <td>0</td>\n",
       "      <td>0</td>\n",
       "      <td>0</td>\n",
       "      <td>0</td>\n",
       "      <td>1</td>\n",
       "      <td>0</td>\n",
       "      <td>0</td>\n",
       "      <td>0</td>\n",
       "    </tr>\n",
       "    <tr>\n",
       "      <th>...</th>\n",
       "      <td>...</td>\n",
       "      <td>...</td>\n",
       "      <td>...</td>\n",
       "      <td>...</td>\n",
       "      <td>...</td>\n",
       "      <td>...</td>\n",
       "      <td>...</td>\n",
       "      <td>...</td>\n",
       "      <td>...</td>\n",
       "      <td>...</td>\n",
       "      <td>...</td>\n",
       "      <td>...</td>\n",
       "      <td>...</td>\n",
       "      <td>...</td>\n",
       "      <td>...</td>\n",
       "    </tr>\n",
       "    <tr>\n",
       "      <th>91</th>\n",
       "      <td>2002-08-01</td>\n",
       "      <td>405</td>\n",
       "      <td>2002</td>\n",
       "      <td>0</td>\n",
       "      <td>1</td>\n",
       "      <td>0</td>\n",
       "      <td>0</td>\n",
       "      <td>0</td>\n",
       "      <td>0</td>\n",
       "      <td>0</td>\n",
       "      <td>0</td>\n",
       "      <td>0</td>\n",
       "      <td>0</td>\n",
       "      <td>0</td>\n",
       "      <td>0</td>\n",
       "    </tr>\n",
       "    <tr>\n",
       "      <th>92</th>\n",
       "      <td>2002-09-01</td>\n",
       "      <td>355</td>\n",
       "      <td>2002</td>\n",
       "      <td>0</td>\n",
       "      <td>0</td>\n",
       "      <td>0</td>\n",
       "      <td>0</td>\n",
       "      <td>0</td>\n",
       "      <td>0</td>\n",
       "      <td>0</td>\n",
       "      <td>0</td>\n",
       "      <td>0</td>\n",
       "      <td>0</td>\n",
       "      <td>0</td>\n",
       "      <td>1</td>\n",
       "    </tr>\n",
       "    <tr>\n",
       "      <th>93</th>\n",
       "      <td>2002-10-01</td>\n",
       "      <td>306</td>\n",
       "      <td>2002</td>\n",
       "      <td>0</td>\n",
       "      <td>0</td>\n",
       "      <td>0</td>\n",
       "      <td>0</td>\n",
       "      <td>0</td>\n",
       "      <td>0</td>\n",
       "      <td>0</td>\n",
       "      <td>0</td>\n",
       "      <td>0</td>\n",
       "      <td>0</td>\n",
       "      <td>1</td>\n",
       "      <td>0</td>\n",
       "    </tr>\n",
       "    <tr>\n",
       "      <th>94</th>\n",
       "      <td>2002-11-01</td>\n",
       "      <td>271</td>\n",
       "      <td>2002</td>\n",
       "      <td>0</td>\n",
       "      <td>0</td>\n",
       "      <td>0</td>\n",
       "      <td>0</td>\n",
       "      <td>0</td>\n",
       "      <td>0</td>\n",
       "      <td>0</td>\n",
       "      <td>0</td>\n",
       "      <td>0</td>\n",
       "      <td>1</td>\n",
       "      <td>0</td>\n",
       "      <td>0</td>\n",
       "    </tr>\n",
       "    <tr>\n",
       "      <th>95</th>\n",
       "      <td>2002-12-01</td>\n",
       "      <td>306</td>\n",
       "      <td>2002</td>\n",
       "      <td>0</td>\n",
       "      <td>0</td>\n",
       "      <td>1</td>\n",
       "      <td>0</td>\n",
       "      <td>0</td>\n",
       "      <td>0</td>\n",
       "      <td>0</td>\n",
       "      <td>0</td>\n",
       "      <td>0</td>\n",
       "      <td>0</td>\n",
       "      <td>0</td>\n",
       "      <td>0</td>\n",
       "    </tr>\n",
       "  </tbody>\n",
       "</table>\n",
       "<p>96 rows × 15 columns</p>\n",
       "</div>"
      ],
      "text/plain": [
       "        Month  Passengers  year  month_Apr  month_Aug  month_Dec  month_Feb  \\\n",
       "0  1995-01-01         112  1995          0          0          0          0   \n",
       "1  1995-02-01         118  1995          0          0          0          1   \n",
       "2  1995-03-01         132  1995          0          0          0          0   \n",
       "3  1995-04-01         129  1995          1          0          0          0   \n",
       "4  1995-05-01         121  1995          0          0          0          0   \n",
       "..        ...         ...   ...        ...        ...        ...        ...   \n",
       "91 2002-08-01         405  2002          0          1          0          0   \n",
       "92 2002-09-01         355  2002          0          0          0          0   \n",
       "93 2002-10-01         306  2002          0          0          0          0   \n",
       "94 2002-11-01         271  2002          0          0          0          0   \n",
       "95 2002-12-01         306  2002          0          0          1          0   \n",
       "\n",
       "    month_Jan  month_Jul  month_Jun  month_Mar  month_May  month_Nov  \\\n",
       "0           1          0          0          0          0          0   \n",
       "1           0          0          0          0          0          0   \n",
       "2           0          0          0          1          0          0   \n",
       "3           0          0          0          0          0          0   \n",
       "4           0          0          0          0          1          0   \n",
       "..        ...        ...        ...        ...        ...        ...   \n",
       "91          0          0          0          0          0          0   \n",
       "92          0          0          0          0          0          0   \n",
       "93          0          0          0          0          0          0   \n",
       "94          0          0          0          0          0          1   \n",
       "95          0          0          0          0          0          0   \n",
       "\n",
       "    month_Oct  month_Sep  \n",
       "0           0          0  \n",
       "1           0          0  \n",
       "2           0          0  \n",
       "3           0          0  \n",
       "4           0          0  \n",
       "..        ...        ...  \n",
       "91          0          0  \n",
       "92          0          1  \n",
       "93          1          0  \n",
       "94          0          0  \n",
       "95          0          0  \n",
       "\n",
       "[96 rows x 15 columns]"
      ]
     },
     "execution_count": 19,
     "metadata": {},
     "output_type": "execute_result"
    }
   ],
   "source": [
    "df2"
   ]
  },
  {
   "cell_type": "code",
   "execution_count": 20,
   "id": "1fc364bb",
   "metadata": {},
   "outputs": [],
   "source": [
    "x=np.arange(1,97)\n",
    "t=pd.Series(data=x)\n",
    "t_sqr=pd.Series(data=(x*x))\n",
    "df2['t'] = t\n",
    "df2['t_sqr'] = t_sqr\n",
    "df2['log_passengers'] = np.log(df2['Passengers'])"
   ]
  },
  {
   "cell_type": "code",
   "execution_count": 21,
   "id": "c9049013",
   "metadata": {},
   "outputs": [
    {
     "data": {
      "text/html": [
       "<div>\n",
       "<style scoped>\n",
       "    .dataframe tbody tr th:only-of-type {\n",
       "        vertical-align: middle;\n",
       "    }\n",
       "\n",
       "    .dataframe tbody tr th {\n",
       "        vertical-align: top;\n",
       "    }\n",
       "\n",
       "    .dataframe thead th {\n",
       "        text-align: right;\n",
       "    }\n",
       "</style>\n",
       "<table border=\"1\" class=\"dataframe\">\n",
       "  <thead>\n",
       "    <tr style=\"text-align: right;\">\n",
       "      <th></th>\n",
       "      <th>Month</th>\n",
       "      <th>Passengers</th>\n",
       "      <th>year</th>\n",
       "      <th>month_Apr</th>\n",
       "      <th>month_Aug</th>\n",
       "      <th>month_Dec</th>\n",
       "      <th>month_Feb</th>\n",
       "      <th>month_Jan</th>\n",
       "      <th>month_Jul</th>\n",
       "      <th>month_Jun</th>\n",
       "      <th>month_Mar</th>\n",
       "      <th>month_May</th>\n",
       "      <th>month_Nov</th>\n",
       "      <th>month_Oct</th>\n",
       "      <th>month_Sep</th>\n",
       "      <th>t</th>\n",
       "      <th>t_sqr</th>\n",
       "      <th>log_passengers</th>\n",
       "    </tr>\n",
       "  </thead>\n",
       "  <tbody>\n",
       "    <tr>\n",
       "      <th>6</th>\n",
       "      <td>1995-07-01</td>\n",
       "      <td>148</td>\n",
       "      <td>1995</td>\n",
       "      <td>0</td>\n",
       "      <td>0</td>\n",
       "      <td>0</td>\n",
       "      <td>0</td>\n",
       "      <td>0</td>\n",
       "      <td>1</td>\n",
       "      <td>0</td>\n",
       "      <td>0</td>\n",
       "      <td>0</td>\n",
       "      <td>0</td>\n",
       "      <td>0</td>\n",
       "      <td>0</td>\n",
       "      <td>7</td>\n",
       "      <td>49</td>\n",
       "      <td>4.997212</td>\n",
       "    </tr>\n",
       "  </tbody>\n",
       "</table>\n",
       "</div>"
      ],
      "text/plain": [
       "       Month  Passengers  year  month_Apr  month_Aug  month_Dec  month_Feb  \\\n",
       "6 1995-07-01         148  1995          0          0          0          0   \n",
       "\n",
       "   month_Jan  month_Jul  month_Jun  month_Mar  month_May  month_Nov  \\\n",
       "6          0          1          0          0          0          0   \n",
       "\n",
       "   month_Oct  month_Sep  t  t_sqr  log_passengers  \n",
       "6          0          0  7     49        4.997212  "
      ]
     },
     "execution_count": 21,
     "metadata": {},
     "output_type": "execute_result"
    }
   ],
   "source": [
    "df2.sample()"
   ]
  },
  {
   "cell_type": "code",
   "execution_count": 22,
   "id": "f987a1ab",
   "metadata": {},
   "outputs": [],
   "source": [
    "#Spliting the data\n",
    "Train = df2.head(84)\n",
    "Test = df2.tail(12)"
   ]
  },
  {
   "cell_type": "markdown",
   "id": "070ea5ee",
   "metadata": {},
   "source": [
    "Model Building"
   ]
  },
  {
   "cell_type": "code",
   "execution_count": 23,
   "id": "6d9eba80",
   "metadata": {},
   "outputs": [],
   "source": [
    "def MAE(pred,org):\n",
    "    temp = np.abs((pred-org)/org)\n",
    "    return np.mean(temp)"
   ]
  },
  {
   "cell_type": "code",
   "execution_count": 24,
   "id": "e815040b",
   "metadata": {},
   "outputs": [
    {
     "data": {
      "text/plain": [
       "0.12875898544471467"
      ]
     },
     "execution_count": 24,
     "metadata": {},
     "output_type": "execute_result"
    }
   ],
   "source": [
    "# Checking MAE for Linear Model\n",
    "import statsmodels.formula.api as smf \n",
    "\n",
    "linear_model = smf.ols('Passengers~t',data=Train).fit()                                                           \n",
    "pred_linear =  pd.Series(linear_model.predict(pd.DataFrame(Test['t'])))                                             \n",
    "mae_linear = MAE(Test['Passengers'],pred_linear)     \n",
    "mae_linear"
   ]
  },
  {
   "cell_type": "code",
   "execution_count": 25,
   "id": "0e12dcbe",
   "metadata": {},
   "outputs": [
    {
     "data": {
      "text/plain": [
       "0.1110245939198577"
      ]
     },
     "execution_count": 25,
     "metadata": {},
     "output_type": "execute_result"
    }
   ],
   "source": [
    "# Checking MAE for Exponential model\n",
    "\n",
    "Exp = smf.ols('log_passengers~t',data=Train).fit()\n",
    "pred_Exp = pd.Series(Exp.predict(pd.DataFrame(Test['t'])))\n",
    "mae_Exp = MAE(Test['Passengers'], np.exp(pred_Exp))\n",
    "mae_Exp"
   ]
  },
  {
   "cell_type": "code",
   "execution_count": 26,
   "id": "3ce20cfb",
   "metadata": {},
   "outputs": [
    {
     "data": {
      "text/plain": [
       "0.1183816808031584"
      ]
     },
     "execution_count": 26,
     "metadata": {},
     "output_type": "execute_result"
    }
   ],
   "source": [
    "# Checking MAE for Quadratic model\n",
    "\n",
    "Quad = smf.ols('Passengers~t+t_sqr',data=Train).fit()\n",
    "pred_Quad = pd.Series(Quad.predict(Test[[\"t\",\"t_sqr\"]]))\n",
    "mae_Quad = MAE(Test['Passengers'],pred_Quad)\n",
    "mae_Quad"
   ]
  },
  {
   "cell_type": "code",
   "execution_count": 27,
   "id": "ddf977c3",
   "metadata": {},
   "outputs": [
    {
     "data": {
      "text/plain": [
       "0.6601957591766385"
      ]
     },
     "execution_count": 27,
     "metadata": {},
     "output_type": "execute_result"
    }
   ],
   "source": [
    "# Checking MAE for Additive seasonality model\n",
    "\n",
    "add_sea = smf.ols('Passengers~month_Jan+month_Feb+month_Mar+month_Apr+month_May+month_Jun+month_Jul+month_Aug+month_Sep+month_Oct+month_Nov',data=Train).fit()\n",
    "pred_add_sea = pd.Series(add_sea.predict(Test[['month_Jan','month_Feb','month_Mar','month_Apr','month_May','month_Jun','month_Jul','month_Aug','month_Sep','month_Oct','month_Nov']]))\n",
    "mae_add_sea = MAE(Test['Passengers'],pred_add_sea)\n",
    "mae_add_sea"
   ]
  },
  {
   "cell_type": "code",
   "execution_count": 28,
   "id": "5d95853b",
   "metadata": {},
   "outputs": [
    {
     "data": {
      "text/plain": [
       "0.05571086177988465"
      ]
     },
     "execution_count": 28,
     "metadata": {},
     "output_type": "execute_result"
    }
   ],
   "source": [
    "# Checking MAE for Additive Seasonality Quadratic model\n",
    "\n",
    "add_sea_Quad = smf.ols('Passengers~t+t_sqr+month_Jan+month_Feb+month_Mar+month_Apr+month_May+month_Jun+month_Jul+month_Aug+month_Sep+month_Oct+month_Nov',data=Train).fit()\n",
    "pred_add_sea_quad = pd.Series(add_sea_Quad.predict(Test[['month_Jan','month_Feb','month_Mar','month_Apr','month_May','month_Jun','month_Jul','month_Aug','month_Sep','month_Oct','month_Nov','t','t_sqr']]))\n",
    "mae_add_sea_quad = MAE(Test['Passengers'], pred_add_sea_quad)\n",
    "mae_add_sea_quad"
   ]
  },
  {
   "cell_type": "code",
   "execution_count": 29,
   "id": "cf68ea8e",
   "metadata": {},
   "outputs": [
    {
     "data": {
      "text/plain": [
       "0.7218240575033893"
      ]
     },
     "execution_count": 29,
     "metadata": {},
     "output_type": "execute_result"
    }
   ],
   "source": [
    "# Checking Multiplicative Seasonality model\n",
    "\n",
    "Mul_sea = smf.ols('log_passengers~month_Jan+month_Feb+month_Mar+month_Apr+month_May+month_Jun+month_Jul+month_Aug+month_Sep+month_Oct+month_Nov',data = Train).fit()\n",
    "pred_Mult_sea = pd.Series(Mul_sea.predict(Test))\n",
    "mae_Mult_sea = MAE(Test['Passengers'], np.exp(pred_Mult_sea))\n",
    "mae_Mult_sea"
   ]
  },
  {
   "cell_type": "code",
   "execution_count": 30,
   "id": "4c37cd63",
   "metadata": {},
   "outputs": [
    {
     "data": {
      "text/plain": [
       "0.024187475026051095"
      ]
     },
     "execution_count": 30,
     "metadata": {},
     "output_type": "execute_result"
    }
   ],
   "source": [
    "# Checking MAE for Multiplicative Additive Seasonality model\n",
    "\n",
    "Mul_Add_sea = smf.ols('log_passengers~t+month_Jan+month_Feb+month_Mar+month_Apr+month_May+month_Jun+month_Jul+month_Aug+month_Sep+month_Oct+month_Nov',data = Train).fit()\n",
    "pred_Mult_add_sea = pd.Series(Mul_Add_sea.predict(Test))\n",
    "mae_Mult_add_sea = MAE(Test['Passengers'], np.exp(pred_Mult_add_sea))\n",
    "mae_Mult_add_sea "
   ]
  },
  {
   "cell_type": "code",
   "execution_count": 31,
   "id": "4ec7c3e3",
   "metadata": {},
   "outputs": [],
   "source": [
    "# Forecasting by data driven model\n",
    "from statsmodels.tsa.seasonal import seasonal_decompose\n",
    "from statsmodels.tsa.holtwinters import SimpleExpSmoothing # SES\n",
    "from statsmodels.tsa.holtwinters import Holt # Holts Exponential Smoothing\n",
    "from statsmodels.tsa.holtwinters import ExponentialSmoothing"
   ]
  },
  {
   "cell_type": "code",
   "execution_count": 32,
   "id": "d0b30ebd",
   "metadata": {},
   "outputs": [],
   "source": [
    "Train = df1.head(84)\n",
    "Test = df1.tail(12)"
   ]
  },
  {
   "cell_type": "code",
   "execution_count": 33,
   "id": "a81009bc",
   "metadata": {},
   "outputs": [
    {
     "name": "stderr",
     "output_type": "stream",
     "text": [
      "C:\\Users\\Nithesh Shetty\\Downloads\\python\\lib\\site-packages\\statsmodels\\tsa\\holtwinters\\model.py:427: FutureWarning: After 0.13 initialization must be handled at model creation\n",
      "  warnings.warn(\n"
     ]
    },
    {
     "data": {
      "text/plain": [
       "0.1341127474051367"
      ]
     },
     "execution_count": 33,
     "metadata": {},
     "output_type": "execute_result"
    }
   ],
   "source": [
    "#Simple Exponential Method\n",
    "\n",
    "ses_model = SimpleExpSmoothing(Train[\"Passengers\"]).fit(smoothing_level=0.2)\n",
    "pred_ses = ses_model.predict(start = Test.index[0],end = Test.index[-1])\n",
    "MAE_ses = MAE(pred_ses,Test.Passengers) \n",
    "MAE_ses"
   ]
  },
  {
   "cell_type": "code",
   "execution_count": 34,
   "id": "b5cf6c0d",
   "metadata": {},
   "outputs": [
    {
     "name": "stderr",
     "output_type": "stream",
     "text": [
      "<ipython-input-34-cba1fd92518f>:2: FutureWarning: the 'smoothing_slope'' keyword is deprecated, use 'smoothing_trend' instead\n",
      "  hw_model = Holt(Train[\"Passengers\"]).fit(smoothing_level=0.8, smoothing_slope=0.2)\n"
     ]
    },
    {
     "data": {
      "text/plain": [
       "0.23530719652100926"
      ]
     },
     "execution_count": 34,
     "metadata": {},
     "output_type": "execute_result"
    }
   ],
   "source": [
    "# Holt method \n",
    "hw_model = Holt(Train[\"Passengers\"]).fit(smoothing_level=0.8, smoothing_slope=0.2)\n",
    "pred_hw = hw_model.predict(start = Test.index[0],end = Test.index[-1])\n",
    "MAE_hw = MAE(pred_hw,Test.Passengers) \n",
    "MAE_hw"
   ]
  },
  {
   "cell_type": "code",
   "execution_count": 35,
   "id": "26bf9db2",
   "metadata": {},
   "outputs": [
    {
     "data": {
      "text/plain": [
       "0.05499258483636923"
      ]
     },
     "execution_count": 35,
     "metadata": {},
     "output_type": "execute_result"
    }
   ],
   "source": [
    "#Holts winter exponential smoothing with additive seasonality and additive trend\n",
    "hwe_model_add_add = ExponentialSmoothing(Train[\"Passengers\"],seasonal=\"add\",trend=\"add\",seasonal_periods=12).fit() #add the trend to the model\n",
    "pred_hwe_add_add = hwe_model_add_add.predict(start = Test.index[0],end = Test.index[-1])\n",
    "MAE__hwe_add_add = MAE(pred_hwe_add_add,Test.Passengers) \n",
    "MAE__hwe_add_add"
   ]
  },
  {
   "cell_type": "code",
   "execution_count": 36,
   "id": "756e7032",
   "metadata": {},
   "outputs": [
    {
     "data": {
      "text/plain": [
       "0.028205793420354914"
      ]
     },
     "execution_count": 36,
     "metadata": {},
     "output_type": "execute_result"
    }
   ],
   "source": [
    "#Holts winter exponential smoothing with multiplicative seasonality and additive trend\n",
    "\n",
    "hwe_model_mul_add = ExponentialSmoothing(Train[\"Passengers\"],seasonal=\"mul\",trend=\"add\",seasonal_periods=12).fit() \n",
    "pred_hwe_mul_add = hwe_model_mul_add.predict(start = Test.index[0],end = Test.index[-1])\n",
    "MAE__hwe_mul_add = MAE(pred_hwe_mul_add,Test.Passengers)\n",
    "MAE__hwe_mul_add"
   ]
  },
  {
   "cell_type": "markdown",
   "id": "8a9de9a4",
   "metadata": {},
   "source": [
    "### Forecasting by ARIMA Model"
   ]
  },
  {
   "cell_type": "code",
   "execution_count": 37,
   "id": "00d4bc51",
   "metadata": {},
   "outputs": [
    {
     "name": "stdout",
     "output_type": "stream",
     "text": [
      "Dataset 84, Validation 12\n"
     ]
    }
   ],
   "source": [
    "# separate out a validation dataset\n",
    "split_point = len(df) - 12\n",
    "dataset, validation = df[0:split_point], df[split_point:]\n",
    "print('Dataset %d, Validation %d' % (len(dataset), len(validation)))"
   ]
  },
  {
   "cell_type": "code",
   "execution_count": 38,
   "id": "8732a2b0",
   "metadata": {},
   "outputs": [],
   "source": [
    "# prepare data\n",
    "X = dataset.values\n",
    "X = X.astype('float32')\n",
    "train_size = int(len(X) * 0.50)\n",
    "train, test = X[0:train_size], X[train_size:]"
   ]
  },
  {
   "cell_type": "code",
   "execution_count": 39,
   "id": "4039ceed",
   "metadata": {},
   "outputs": [
    {
     "data": {
      "text/plain": [
       "(42, 42)"
      ]
     },
     "execution_count": 39,
     "metadata": {},
     "output_type": "execute_result"
    }
   ],
   "source": [
    "train.size, test.size"
   ]
  },
  {
   "cell_type": "code",
   "execution_count": 40,
   "id": "bab23c10",
   "metadata": {},
   "outputs": [
    {
     "name": "stdout",
     "output_type": "stream",
     "text": [
      ">Predicted=218.000, Expected=230.000\n",
      ">Predicted=230.000, Expected=242.000\n",
      ">Predicted=242.000, Expected=209.000\n",
      ">Predicted=209.000, Expected=191.000\n",
      ">Predicted=191.000, Expected=172.000\n",
      ">Predicted=172.000, Expected=194.000\n",
      ">Predicted=194.000, Expected=196.000\n",
      ">Predicted=196.000, Expected=196.000\n",
      ">Predicted=196.000, Expected=236.000\n",
      ">Predicted=236.000, Expected=235.000\n",
      ">Predicted=235.000, Expected=229.000\n",
      ">Predicted=229.000, Expected=243.000\n",
      ">Predicted=243.000, Expected=264.000\n",
      ">Predicted=264.000, Expected=272.000\n",
      ">Predicted=272.000, Expected=237.000\n",
      ">Predicted=237.000, Expected=211.000\n",
      ">Predicted=211.000, Expected=180.000\n",
      ">Predicted=180.000, Expected=201.000\n",
      ">Predicted=201.000, Expected=204.000\n",
      ">Predicted=204.000, Expected=188.000\n",
      ">Predicted=188.000, Expected=235.000\n",
      ">Predicted=235.000, Expected=227.000\n",
      ">Predicted=227.000, Expected=234.000\n",
      ">Predicted=234.000, Expected=264.000\n",
      ">Predicted=264.000, Expected=302.000\n",
      ">Predicted=302.000, Expected=293.000\n",
      ">Predicted=293.000, Expected=259.000\n",
      ">Predicted=259.000, Expected=229.000\n",
      ">Predicted=229.000, Expected=203.000\n",
      ">Predicted=203.000, Expected=229.000\n",
      ">Predicted=229.000, Expected=242.000\n",
      ">Predicted=242.000, Expected=233.000\n",
      ">Predicted=233.000, Expected=267.000\n",
      ">Predicted=267.000, Expected=269.000\n",
      ">Predicted=269.000, Expected=270.000\n",
      ">Predicted=270.000, Expected=315.000\n",
      ">Predicted=315.000, Expected=364.000\n",
      ">Predicted=364.000, Expected=347.000\n",
      ">Predicted=347.000, Expected=312.000\n",
      ">Predicted=312.000, Expected=274.000\n",
      ">Predicted=274.000, Expected=237.000\n",
      ">Predicted=237.000, Expected=278.000\n",
      "MAE_base: 0.089\n"
     ]
    }
   ],
   "source": [
    "# walk-forward validation\n",
    "history = [x for x in train]\n",
    "predictions = list()\n",
    "for i in range(len(test)):\n",
    "    yhat = history[-1]\n",
    "    predictions.append(yhat)\n",
    "    obs = test[i]\n",
    "    history.append(obs)\n",
    "    print('>Predicted=%.3f, Expected=%.3f' % (yhat, obs))\n",
    "# report performance\n",
    "MAE_base = MAE(predictions, test)\n",
    "print('MAE_base: %.3f' % MAE_base)"
   ]
  },
  {
   "cell_type": "code",
   "execution_count": 41,
   "id": "8bf32f3e",
   "metadata": {},
   "outputs": [],
   "source": [
    "#performing test to check whether data is stationary or not\n",
    "from statsmodels.tsa.stattools import adfuller\n",
    "\n",
    "def adf_test(series):\n",
    "    result=adfuller(series)\n",
    "    print('ADF Statistics: {}'.format(result[0]))\n",
    "    print('p- value: {}'.format(result[1]))\n",
    "    if result[1] <= 0.05:\n",
    "        print(\"strong evidence against the null hypothesis, reject the null hypothesis. Data has no unit root and is stationary\")\n",
    "    else:\n",
    "        print(\"weak evidence against null hypothesis, time series has a unit root, indicating it is non-stationary \")"
   ]
  },
  {
   "cell_type": "code",
   "execution_count": 42,
   "id": "c165faa9",
   "metadata": {},
   "outputs": [
    {
     "name": "stdout",
     "output_type": "stream",
     "text": [
      "ADF Statistics: 1.3402479596467118\n",
      "p- value: 0.9968250481137263\n",
      "weak evidence against null hypothesis, time series has a unit root, indicating it is non-stationary \n"
     ]
    }
   ],
   "source": [
    "adf_test(df['Passengers'])"
   ]
  },
  {
   "cell_type": "code",
   "execution_count": 43,
   "id": "69a7b602",
   "metadata": {},
   "outputs": [],
   "source": [
    "## Since passangers is non stationary, generating first difference\n",
    "df['Passengers First Difference']=df['Passengers']-df['Passengers'].shift(12)"
   ]
  },
  {
   "cell_type": "code",
   "execution_count": 44,
   "id": "1ad39170",
   "metadata": {},
   "outputs": [
    {
     "name": "stdout",
     "output_type": "stream",
     "text": [
      "ADF Statistics: -2.6900043838623167\n",
      "p- value: 0.07578397625851754\n",
      "weak evidence against null hypothesis, time series has a unit root, indicating it is non-stationary \n"
     ]
    }
   ],
   "source": [
    "adf_test(df['Passengers First Difference'].dropna())"
   ]
  },
  {
   "cell_type": "code",
   "execution_count": 45,
   "id": "8e4ecb7f",
   "metadata": {},
   "outputs": [],
   "source": [
    "### Since first difference is non stationary, generating second difference\n",
    "df['Passengers Second Difference']=df['Passengers First Difference']-df['Passengers First Difference'].shift(12)"
   ]
  },
  {
   "cell_type": "code",
   "execution_count": 46,
   "id": "87529f16",
   "metadata": {},
   "outputs": [
    {
     "name": "stdout",
     "output_type": "stream",
     "text": [
      "ADF Statistics: -2.109480142138181\n",
      "p- value: 0.24071971540603881\n",
      "weak evidence against null hypothesis, time series has a unit root, indicating it is non-stationary \n"
     ]
    }
   ],
   "source": [
    "adf_test(df['Passengers Second Difference'].dropna())"
   ]
  },
  {
   "cell_type": "code",
   "execution_count": 47,
   "id": "d375723f",
   "metadata": {},
   "outputs": [],
   "source": [
    "### Since second difference is non stationary, generating third difference\n",
    "df['Passengers Third Difference']=df['Passengers Second Difference']-df['Passengers Second Difference'].shift(12)"
   ]
  },
  {
   "cell_type": "code",
   "execution_count": 48,
   "id": "3c01d9df",
   "metadata": {},
   "outputs": [
    {
     "name": "stdout",
     "output_type": "stream",
     "text": [
      "ADF Statistics: -4.89382405549013\n",
      "p- value: 3.585265761394368e-05\n",
      "strong evidence against the null hypothesis, reject the null hypothesis. Data has no unit root and is stationary\n"
     ]
    }
   ],
   "source": [
    "adf_test(df['Passengers Third Difference'].dropna())"
   ]
  },
  {
   "cell_type": "code",
   "execution_count": 49,
   "id": "2b90c6f5",
   "metadata": {},
   "outputs": [],
   "source": [
    "##### Since the 3rd difference is stationary, we can build the ARIMA model on it.\n",
    "from datetime import datetime,timedelta\n",
    "train_dataset_end=datetime(1999,12,1)\n",
    "test_dataset_end=datetime(2002,12,1)"
   ]
  },
  {
   "cell_type": "code",
   "execution_count": 50,
   "id": "ee259b9f",
   "metadata": {},
   "outputs": [],
   "source": [
    "train_data=df[:train_dataset_end]\n",
    "test_data=df[train_dataset_end+timedelta(days=1):test_dataset_end]"
   ]
  },
  {
   "cell_type": "code",
   "execution_count": 51,
   "id": "c7a99209",
   "metadata": {},
   "outputs": [],
   "source": [
    "## create a SARIMA model as we are working with seasonal data\n",
    "from statsmodels.tsa.statespace.sarimax import SARIMAX"
   ]
  },
  {
   "cell_type": "code",
   "execution_count": 52,
   "id": "08186b53",
   "metadata": {},
   "outputs": [
    {
     "name": "stderr",
     "output_type": "stream",
     "text": [
      "C:\\Users\\Nithesh Shetty\\Downloads\\python\\lib\\site-packages\\statsmodels\\tsa\\base\\tsa_model.py:524: ValueWarning: No frequency information was provided, so inferred frequency MS will be used.\n",
      "  warnings.warn('No frequency information was'\n",
      "C:\\Users\\Nithesh Shetty\\Downloads\\python\\lib\\site-packages\\statsmodels\\tsa\\base\\tsa_model.py:524: ValueWarning: No frequency information was provided, so inferred frequency MS will be used.\n",
      "  warnings.warn('No frequency information was'\n"
     ]
    }
   ],
   "source": [
    "model_SARIMA=SARIMAX(train_data['Passengers'],order=(10,0,2),seasonal_order=(0,3,0,12))"
   ]
  },
  {
   "cell_type": "code",
   "execution_count": 53,
   "id": "7dcc1bb9",
   "metadata": {},
   "outputs": [
    {
     "name": "stderr",
     "output_type": "stream",
     "text": [
      "C:\\Users\\Nithesh Shetty\\Downloads\\python\\lib\\site-packages\\statsmodels\\base\\model.py:566: ConvergenceWarning: Maximum Likelihood optimization failed to converge. Check mle_retvals\n",
      "  warnings.warn(\"Maximum Likelihood optimization failed to \"\n"
     ]
    }
   ],
   "source": [
    "model_SARIMA_fit=model_SARIMA.fit()"
   ]
  },
  {
   "cell_type": "code",
   "execution_count": 54,
   "id": "96946845",
   "metadata": {},
   "outputs": [
    {
     "data": {
      "text/html": [
       "<table class=\"simpletable\">\n",
       "<caption>SARIMAX Results</caption>\n",
       "<tr>\n",
       "  <th>Dep. Variable:</th>              <td>Passengers</td>            <th>  No. Observations:  </th>    <td>60</td>   \n",
       "</tr>\n",
       "<tr>\n",
       "  <th>Model:</th>           <td>SARIMAX(10, 0, 2)x(0, 3, [], 12)</td> <th>  Log Likelihood     </th> <td>-106.783</td>\n",
       "</tr>\n",
       "<tr>\n",
       "  <th>Date:</th>                    <td>Tue, 28 Feb 2023</td>         <th>  AIC                </th>  <td>239.565</td>\n",
       "</tr>\n",
       "<tr>\n",
       "  <th>Time:</th>                        <td>11:30:28</td>             <th>  BIC                </th>  <td>254.880</td>\n",
       "</tr>\n",
       "<tr>\n",
       "  <th>Sample:</th>                     <td>01-01-1995</td>            <th>  HQIC               </th>  <td>243.628</td>\n",
       "</tr>\n",
       "<tr>\n",
       "  <th></th>                           <td>- 12-01-1999</td>           <th>                     </th>     <td> </td>   \n",
       "</tr>\n",
       "<tr>\n",
       "  <th>Covariance Type:</th>                <td>opg</td>               <th>                     </th>     <td> </td>   \n",
       "</tr>\n",
       "</table>\n",
       "<table class=\"simpletable\">\n",
       "<tr>\n",
       "     <td></td>       <th>coef</th>     <th>std err</th>      <th>z</th>      <th>P>|z|</th>  <th>[0.025</th>    <th>0.975]</th>  \n",
       "</tr>\n",
       "<tr>\n",
       "  <th>ar.L1</th>  <td>    0.5804</td> <td>    0.628</td> <td>    0.925</td> <td> 0.355</td> <td>   -0.650</td> <td>    1.811</td>\n",
       "</tr>\n",
       "<tr>\n",
       "  <th>ar.L2</th>  <td>    0.4938</td> <td>    0.715</td> <td>    0.691</td> <td> 0.490</td> <td>   -0.907</td> <td>    1.895</td>\n",
       "</tr>\n",
       "<tr>\n",
       "  <th>ar.L3</th>  <td>   -0.4802</td> <td>    0.617</td> <td>   -0.779</td> <td> 0.436</td> <td>   -1.689</td> <td>    0.729</td>\n",
       "</tr>\n",
       "<tr>\n",
       "  <th>ar.L4</th>  <td>    0.1988</td> <td>    0.546</td> <td>    0.364</td> <td> 0.716</td> <td>   -0.872</td> <td>    1.269</td>\n",
       "</tr>\n",
       "<tr>\n",
       "  <th>ar.L5</th>  <td>   -0.1637</td> <td>    0.484</td> <td>   -0.338</td> <td> 0.735</td> <td>   -1.112</td> <td>    0.785</td>\n",
       "</tr>\n",
       "<tr>\n",
       "  <th>ar.L6</th>  <td>   -0.0070</td> <td>    0.479</td> <td>   -0.015</td> <td> 0.988</td> <td>   -0.946</td> <td>    0.932</td>\n",
       "</tr>\n",
       "<tr>\n",
       "  <th>ar.L7</th>  <td>   -0.0397</td> <td>    0.585</td> <td>   -0.068</td> <td> 0.946</td> <td>   -1.186</td> <td>    1.106</td>\n",
       "</tr>\n",
       "<tr>\n",
       "  <th>ar.L8</th>  <td>   -0.0791</td> <td>    0.319</td> <td>   -0.248</td> <td> 0.804</td> <td>   -0.704</td> <td>    0.545</td>\n",
       "</tr>\n",
       "<tr>\n",
       "  <th>ar.L9</th>  <td>    0.3848</td> <td>    0.615</td> <td>    0.626</td> <td> 0.531</td> <td>   -0.820</td> <td>    1.590</td>\n",
       "</tr>\n",
       "<tr>\n",
       "  <th>ar.L10</th> <td>   -0.4764</td> <td>    0.439</td> <td>   -1.084</td> <td> 0.278</td> <td>   -1.338</td> <td>    0.385</td>\n",
       "</tr>\n",
       "<tr>\n",
       "  <th>ma.L1</th>  <td>    0.1999</td> <td>   12.533</td> <td>    0.016</td> <td> 0.987</td> <td>  -24.363</td> <td>   24.763</td>\n",
       "</tr>\n",
       "<tr>\n",
       "  <th>ma.L2</th>  <td>   -0.7821</td> <td>   10.224</td> <td>   -0.076</td> <td> 0.939</td> <td>  -20.820</td> <td>   19.256</td>\n",
       "</tr>\n",
       "<tr>\n",
       "  <th>sigma2</th> <td>   98.2079</td> <td> 1208.320</td> <td>    0.081</td> <td> 0.935</td> <td>-2270.056</td> <td> 2466.472</td>\n",
       "</tr>\n",
       "</table>\n",
       "<table class=\"simpletable\">\n",
       "<tr>\n",
       "  <th>Ljung-Box (L1) (Q):</th>     <td>1.22</td> <th>  Jarque-Bera (JB):  </th> <td>1.58</td> \n",
       "</tr>\n",
       "<tr>\n",
       "  <th>Prob(Q):</th>                <td>0.27</td> <th>  Prob(JB):          </th> <td>0.45</td> \n",
       "</tr>\n",
       "<tr>\n",
       "  <th>Heteroskedasticity (H):</th> <td>0.92</td> <th>  Skew:              </th> <td>-0.16</td>\n",
       "</tr>\n",
       "<tr>\n",
       "  <th>Prob(H) (two-sided):</th>    <td>0.91</td> <th>  Kurtosis:          </th> <td>1.78</td> \n",
       "</tr>\n",
       "</table><br/><br/>Warnings:<br/>[1] Covariance matrix calculated using the outer product of gradients (complex-step)."
      ],
      "text/plain": [
       "<class 'statsmodels.iolib.summary.Summary'>\n",
       "\"\"\"\n",
       "                                      SARIMAX Results                                       \n",
       "============================================================================================\n",
       "Dep. Variable:                           Passengers   No. Observations:                   60\n",
       "Model:             SARIMAX(10, 0, 2)x(0, 3, [], 12)   Log Likelihood                -106.783\n",
       "Date:                              Tue, 28 Feb 2023   AIC                            239.565\n",
       "Time:                                      11:30:28   BIC                            254.880\n",
       "Sample:                                  01-01-1995   HQIC                           243.628\n",
       "                                       - 12-01-1999                                         \n",
       "Covariance Type:                                opg                                         \n",
       "==============================================================================\n",
       "                 coef    std err          z      P>|z|      [0.025      0.975]\n",
       "------------------------------------------------------------------------------\n",
       "ar.L1          0.5804      0.628      0.925      0.355      -0.650       1.811\n",
       "ar.L2          0.4938      0.715      0.691      0.490      -0.907       1.895\n",
       "ar.L3         -0.4802      0.617     -0.779      0.436      -1.689       0.729\n",
       "ar.L4          0.1988      0.546      0.364      0.716      -0.872       1.269\n",
       "ar.L5         -0.1637      0.484     -0.338      0.735      -1.112       0.785\n",
       "ar.L6         -0.0070      0.479     -0.015      0.988      -0.946       0.932\n",
       "ar.L7         -0.0397      0.585     -0.068      0.946      -1.186       1.106\n",
       "ar.L8         -0.0791      0.319     -0.248      0.804      -0.704       0.545\n",
       "ar.L9          0.3848      0.615      0.626      0.531      -0.820       1.590\n",
       "ar.L10        -0.4764      0.439     -1.084      0.278      -1.338       0.385\n",
       "ma.L1          0.1999     12.533      0.016      0.987     -24.363      24.763\n",
       "ma.L2         -0.7821     10.224     -0.076      0.939     -20.820      19.256\n",
       "sigma2        98.2079   1208.320      0.081      0.935   -2270.056    2466.472\n",
       "===================================================================================\n",
       "Ljung-Box (L1) (Q):                   1.22   Jarque-Bera (JB):                 1.58\n",
       "Prob(Q):                              0.27   Prob(JB):                         0.45\n",
       "Heteroskedasticity (H):               0.92   Skew:                            -0.16\n",
       "Prob(H) (two-sided):                  0.91   Kurtosis:                         1.78\n",
       "===================================================================================\n",
       "\n",
       "Warnings:\n",
       "[1] Covariance matrix calculated using the outer product of gradients (complex-step).\n",
       "\"\"\""
      ]
     },
     "execution_count": 54,
     "metadata": {},
     "output_type": "execute_result"
    }
   ],
   "source": [
    "model_SARIMA_fit.summary()"
   ]
  },
  {
   "cell_type": "code",
   "execution_count": 55,
   "id": "452c507d",
   "metadata": {},
   "outputs": [
    {
     "name": "stdout",
     "output_type": "stream",
     "text": [
      "2000-01-01 00:00:00\n",
      "2002-12-01 00:00:00\n"
     ]
    }
   ],
   "source": [
    "#prediction\n",
    "pred_start_date=test_data.index[0]\n",
    "pred_end_date=test_data.index[-1]\n",
    "print(pred_start_date)\n",
    "print(pred_end_date)"
   ]
  },
  {
   "cell_type": "code",
   "execution_count": 56,
   "id": "8e1e667a",
   "metadata": {},
   "outputs": [],
   "source": [
    "pred_Sarima=model_SARIMA_fit.predict(start=datetime(2000,1,1),end=datetime(2002,12,1))"
   ]
  },
  {
   "cell_type": "code",
   "execution_count": 57,
   "id": "b89f641f",
   "metadata": {},
   "outputs": [],
   "source": [
    "MAE_Sarima = MAE(pred_Sarima, test_data['Passengers'])"
   ]
  },
  {
   "cell_type": "code",
   "execution_count": 58,
   "id": "df4397fb",
   "metadata": {},
   "outputs": [
    {
     "data": {
      "text/plain": [
       "0.16039230636975066"
      ]
     },
     "execution_count": 58,
     "metadata": {},
     "output_type": "execute_result"
    }
   ],
   "source": [
    "MAE_Sarima"
   ]
  },
  {
   "cell_type": "markdown",
   "id": "c0527ca4",
   "metadata": {},
   "source": [
    "### Now comparing the MAE of all the models to choose the best one "
   ]
  },
  {
   "cell_type": "code",
   "execution_count": 59,
   "id": "26a81a6a",
   "metadata": {},
   "outputs": [
    {
     "data": {
      "text/html": [
       "<div>\n",
       "<style scoped>\n",
       "    .dataframe tbody tr th:only-of-type {\n",
       "        vertical-align: middle;\n",
       "    }\n",
       "\n",
       "    .dataframe tbody tr th {\n",
       "        vertical-align: top;\n",
       "    }\n",
       "\n",
       "    .dataframe thead th {\n",
       "        text-align: right;\n",
       "    }\n",
       "</style>\n",
       "<table border=\"1\" class=\"dataframe\">\n",
       "  <thead>\n",
       "    <tr style=\"text-align: right;\">\n",
       "      <th></th>\n",
       "      <th>MODEL</th>\n",
       "      <th>MAE_Values</th>\n",
       "    </tr>\n",
       "  </thead>\n",
       "  <tbody>\n",
       "    <tr>\n",
       "      <th>6</th>\n",
       "      <td>MAE_Mult_add_sea</td>\n",
       "      <td>0.024187</td>\n",
       "    </tr>\n",
       "    <tr>\n",
       "      <th>10</th>\n",
       "      <td>MAE__hwe_mul_add</td>\n",
       "      <td>0.028206</td>\n",
       "    </tr>\n",
       "    <tr>\n",
       "      <th>9</th>\n",
       "      <td>MAE_hwe_add_add</td>\n",
       "      <td>0.054993</td>\n",
       "    </tr>\n",
       "    <tr>\n",
       "      <th>4</th>\n",
       "      <td>MAE_add_sea_quad</td>\n",
       "      <td>0.055711</td>\n",
       "    </tr>\n",
       "    <tr>\n",
       "      <th>11</th>\n",
       "      <td>MAE_base</td>\n",
       "      <td>0.089354</td>\n",
       "    </tr>\n",
       "    <tr>\n",
       "      <th>1</th>\n",
       "      <td>MAE_Exp</td>\n",
       "      <td>0.111025</td>\n",
       "    </tr>\n",
       "    <tr>\n",
       "      <th>2</th>\n",
       "      <td>MAE_Quad</td>\n",
       "      <td>0.118382</td>\n",
       "    </tr>\n",
       "    <tr>\n",
       "      <th>0</th>\n",
       "      <td>MAE_linear</td>\n",
       "      <td>0.128759</td>\n",
       "    </tr>\n",
       "    <tr>\n",
       "      <th>7</th>\n",
       "      <td>MAE_ses</td>\n",
       "      <td>0.134113</td>\n",
       "    </tr>\n",
       "    <tr>\n",
       "      <th>12</th>\n",
       "      <td>MAE_SARIMA</td>\n",
       "      <td>0.160392</td>\n",
       "    </tr>\n",
       "    <tr>\n",
       "      <th>8</th>\n",
       "      <td>MAE_hw</td>\n",
       "      <td>0.235307</td>\n",
       "    </tr>\n",
       "    <tr>\n",
       "      <th>3</th>\n",
       "      <td>MAE_add_sea</td>\n",
       "      <td>0.660196</td>\n",
       "    </tr>\n",
       "    <tr>\n",
       "      <th>5</th>\n",
       "      <td>MAE_Mult_sea</td>\n",
       "      <td>0.721824</td>\n",
       "    </tr>\n",
       "  </tbody>\n",
       "</table>\n",
       "</div>"
      ],
      "text/plain": [
       "               MODEL  MAE_Values\n",
       "6   MAE_Mult_add_sea    0.024187\n",
       "10  MAE__hwe_mul_add    0.028206\n",
       "9    MAE_hwe_add_add    0.054993\n",
       "4   MAE_add_sea_quad    0.055711\n",
       "11          MAE_base    0.089354\n",
       "1            MAE_Exp    0.111025\n",
       "2           MAE_Quad    0.118382\n",
       "0         MAE_linear    0.128759\n",
       "7            MAE_ses    0.134113\n",
       "12        MAE_SARIMA    0.160392\n",
       "8             MAE_hw    0.235307\n",
       "3        MAE_add_sea    0.660196\n",
       "5       MAE_Mult_sea    0.721824"
      ]
     },
     "execution_count": 59,
     "metadata": {},
     "output_type": "execute_result"
    }
   ],
   "source": [
    "#Compare the results \n",
    "\n",
    "data = {\"MODEL\":pd.Series([\"MAE_linear\",\"MAE_Exp\",\"MAE_Quad\",\"MAE_add_sea\",\"MAE_add_sea_quad\",\"MAE_Mult_sea\",\"MAE_Mult_add_sea\",\"MAE_ses\",\"MAE_hw\",\"MAE_hwe_add_add\",\"MAE__hwe_mul_add\",\"MAE_base\",\"MAE_SARIMA\"]),\"MAE_Values\":pd.Series([mae_linear,mae_Exp,mae_Quad,mae_add_sea,mae_add_sea_quad,mae_Mult_sea,mae_Mult_add_sea,MAE_ses,MAE_hw,MAE__hwe_add_add,MAE__hwe_mul_add,MAE_base,MAE_Sarima])}\n",
    "table_mae=pd.DataFrame(data)\n",
    "table_mae.sort_values(['MAE_Values'])"
   ]
  },
  {
   "cell_type": "markdown",
   "id": "a1225ed6",
   "metadata": {},
   "source": [
    "Inference is that Multiplicative additve seasonality is giving less Mean Absolute Error. Hence the same model can be finalized for Airlines data."
   ]
  }
 ],
 "metadata": {
  "kernelspec": {
   "display_name": "Python 3",
   "language": "python",
   "name": "python3"
  },
  "language_info": {
   "codemirror_mode": {
    "name": "ipython",
    "version": 3
   },
   "file_extension": ".py",
   "mimetype": "text/x-python",
   "name": "python",
   "nbconvert_exporter": "python",
   "pygments_lexer": "ipython3",
   "version": "3.8.8"
  }
 },
 "nbformat": 4,
 "nbformat_minor": 5
}
