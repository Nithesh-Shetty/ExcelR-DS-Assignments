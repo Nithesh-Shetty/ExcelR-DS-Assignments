{
 "cells": [
  {
   "cell_type": "markdown",
   "id": "1fb7319a",
   "metadata": {},
   "source": [
    "Question 1 : A F&B manager wants to determine whether there is any significant difference in the diameter of the cutlet between two units. A randomly selected sample of cutlets was collected from both units and measured? Analyze the data and draw inferences at 5% significance level. Please state the assumptions and tests that you carried out to check validity of the assumptions."
   ]
  },
  {
   "cell_type": "markdown",
   "id": "5f907836",
   "metadata": {},
   "source": [
    "(Ho): μ1 = μ2(no difference in diameters of cutlets among two units)\n",
    "(Ha): μ1 ≠ μ2(difference in diameters of cutlets)"
   ]
  },
  {
   "cell_type": "code",
   "execution_count": 1,
   "id": "14768c12",
   "metadata": {},
   "outputs": [],
   "source": [
    "import pandas as pd\n",
    "import numpy as np\n",
    "from scipy import stats\n",
    "from scipy.stats import norm\n"
   ]
  },
  {
   "cell_type": "code",
   "execution_count": 2,
   "id": "6de9bd3d",
   "metadata": {},
   "outputs": [],
   "source": [
    "df=pd.read_csv('Cutlets.csv')"
   ]
  },
  {
   "cell_type": "code",
   "execution_count": 3,
   "id": "60841e65",
   "metadata": {},
   "outputs": [],
   "source": [
    "unitA=pd.Series(df.iloc[:,0])\n",
    "unitB=pd.Series(df.iloc[:,1])"
   ]
  },
  {
   "cell_type": "code",
   "execution_count": 4,
   "id": "7b1bb1fa",
   "metadata": {},
   "outputs": [],
   "source": [
    "p_value=stats.ttest_ind(unitA,unitB)"
   ]
  },
  {
   "cell_type": "code",
   "execution_count": 5,
   "id": "5fbf6c57",
   "metadata": {},
   "outputs": [
    {
     "name": "stdout",
     "output_type": "stream",
     "text": [
      "Ttest_indResult(statistic=0.7228688704678063, pvalue=0.4722394724599501)\n"
     ]
    }
   ],
   "source": [
    "print(p_value)"
   ]
  },
  {
   "cell_type": "markdown",
   "id": "56567452",
   "metadata": {},
   "source": [
    "P value(0.47) is greter the Significance level(0.05).\n",
    "Hence null hypothesis cannot be rejected"
   ]
  },
  {
   "cell_type": "code",
   "execution_count": null,
   "id": "9111cb92",
   "metadata": {},
   "outputs": [],
   "source": []
  },
  {
   "cell_type": "markdown",
   "id": "43608f88",
   "metadata": {},
   "source": [
    "Question 2: A hospital wants to determine whether there is any difference in the average Turn Around Time (TAT) of reports of the laboratories on their preferred list. They collected a random sample and recorded TAT for reports of 4 laboratories. TAT is defined as sample collected to report dispatch.\n",
    "   \n",
    "  Analyze the data and determine whether there is any difference in average TAT among the different laboratories at 5% significance level."
   ]
  },
  {
   "cell_type": "markdown",
   "id": "aadd3d16",
   "metadata": {},
   "source": [
    "Ho = defective % does not varies by centre\n",
    "Ha = defective % varies by centre"
   ]
  },
  {
   "cell_type": "code",
   "execution_count": 6,
   "id": "b28d8d30",
   "metadata": {},
   "outputs": [],
   "source": [
    "import pandas as pd\n",
    "import numpy as np\n",
    "from scipy import stats\n",
    "from scipy.stats import norm"
   ]
  },
  {
   "cell_type": "markdown",
   "id": "5c82d942",
   "metadata": {},
   "source": [
    "Let Ho = All TAT population means are same\n",
    "Let Ha = Atleast one sample TAT population mean is different"
   ]
  },
  {
   "cell_type": "code",
   "execution_count": 7,
   "id": "515eb57e",
   "metadata": {},
   "outputs": [],
   "source": [
    "df2=pd.read_csv('LabTAT.csv')"
   ]
  },
  {
   "cell_type": "code",
   "execution_count": 8,
   "id": "545e518e",
   "metadata": {},
   "outputs": [
    {
     "data": {
      "text/plain": [
       "F_onewayResult(statistic=118.70421654401437, pvalue=2.1156708949992414e-57)"
      ]
     },
     "execution_count": 8,
     "metadata": {},
     "output_type": "execute_result"
    }
   ],
   "source": [
    "p_value2=stats.f_oneway(df2.iloc[:,0],df2.iloc[:,1],df2.iloc[:,2],df2.iloc[:,3])\n",
    "p_value2"
   ]
  },
  {
   "cell_type": "markdown",
   "id": "46c7817c",
   "metadata": {},
   "source": [
    "P value (2.11*e^-57) is lesser the Significance level(0.05).\n",
    "Hence null hypothesis is rejected"
   ]
  },
  {
   "cell_type": "code",
   "execution_count": null,
   "id": "559c12a4",
   "metadata": {},
   "outputs": [],
   "source": []
  },
  {
   "cell_type": "markdown",
   "id": "1805f1e6",
   "metadata": {},
   "source": [
    "Question 3: Sales of products in four different regions is tabulated for males and females. Find if male-female buyer rations are similar across regions.\n",
    "H0: All proportions are equal\n",
    "Ha: Not all Proportions are equal"
   ]
  },
  {
   "cell_type": "code",
   "execution_count": 9,
   "id": "e12ce96a",
   "metadata": {},
   "outputs": [],
   "source": [
    "import pandas as pd\n",
    "import numpy as np\n",
    "from scipy import stats\n",
    "from scipy.stats import norm\n",
    "from scipy.stats import chi2_contingency"
   ]
  },
  {
   "cell_type": "code",
   "execution_count": 10,
   "id": "4328ae62",
   "metadata": {},
   "outputs": [],
   "source": [
    "record=np.array([[50,142,131,70],[435,1523,1356,750]])"
   ]
  },
  {
   "cell_type": "code",
   "execution_count": 11,
   "id": "1a7f0626",
   "metadata": {},
   "outputs": [
    {
     "data": {
      "text/plain": [
       "(1.595945538661058,\n",
       " 0.6603094907091882,\n",
       " 3,\n",
       " array([[  42.76531299,  146.81287862,  131.11756787,   72.30424052],\n",
       "        [ 442.23468701, 1518.18712138, 1355.88243213,  747.69575948]]))"
      ]
     },
     "execution_count": 11,
     "metadata": {},
     "output_type": "execute_result"
    }
   ],
   "source": [
    "chi2_contingency(record)"
   ]
  },
  {
   "cell_type": "markdown",
   "id": "8a244be3",
   "metadata": {},
   "source": [
    "Ho= male-female buyer rations are similar across regions\n",
    "Ha= male-female buyer rations are NOT similar across regions\n"
   ]
  },
  {
   "cell_type": "markdown",
   "id": "491440c5",
   "metadata": {},
   "source": [
    "P value(0.66) is greter the Significance level(0.05).\n",
    "Hence null hypothesis cannot be rejected"
   ]
  },
  {
   "cell_type": "code",
   "execution_count": null,
   "id": "228af4b4",
   "metadata": {},
   "outputs": [],
   "source": []
  },
  {
   "cell_type": "markdown",
   "id": "4793e3cd",
   "metadata": {},
   "source": [
    "Question 4: TeleCall uses 4 centers around the globe to process customer order forms. They audit a certain %  of the customer order forms. Any error in order form renders it defective and has to be reworked before processing.  The manager wants to check whether the defective %  varies by centre. Please analyze the data at 5% significance level and help the manager draw appropriate inferences"
   ]
  },
  {
   "cell_type": "code",
   "execution_count": 12,
   "id": "25750acc",
   "metadata": {},
   "outputs": [],
   "source": [
    "import pandas as pd\n",
    "import numpy as np\n",
    "from scipy import stats\n",
    "from scipy.stats import norm\n",
    "from scipy.stats import chi2_contingency"
   ]
  },
  {
   "cell_type": "code",
   "execution_count": 13,
   "id": "3a4daa80",
   "metadata": {},
   "outputs": [],
   "source": [
    "df4=pd.read_csv('Costomer+OrderForm.csv')"
   ]
  },
  {
   "cell_type": "code",
   "execution_count": 14,
   "id": "bca3d411",
   "metadata": {},
   "outputs": [
    {
     "data": {
      "text/plain": [
       "Error Free    271\n",
       "Defective      29\n",
       "Name: Phillippines, dtype: int64"
      ]
     },
     "execution_count": 14,
     "metadata": {},
     "output_type": "execute_result"
    }
   ],
   "source": [
    "df4.Phillippines.value_counts()"
   ]
  },
  {
   "cell_type": "code",
   "execution_count": 15,
   "id": "313fc1ed",
   "metadata": {},
   "outputs": [
    {
     "data": {
      "text/plain": [
       "Error Free    267\n",
       "Defective      33\n",
       "Name: Indonesia, dtype: int64"
      ]
     },
     "execution_count": 15,
     "metadata": {},
     "output_type": "execute_result"
    }
   ],
   "source": [
    "df4.Indonesia.value_counts()"
   ]
  },
  {
   "cell_type": "code",
   "execution_count": 16,
   "id": "7ab293a1",
   "metadata": {},
   "outputs": [
    {
     "data": {
      "text/plain": [
       "Error Free    269\n",
       "Defective      31\n",
       "Name: Malta, dtype: int64"
      ]
     },
     "execution_count": 16,
     "metadata": {},
     "output_type": "execute_result"
    }
   ],
   "source": [
    "df4.Malta.value_counts()"
   ]
  },
  {
   "cell_type": "code",
   "execution_count": 17,
   "id": "80a4c58d",
   "metadata": {},
   "outputs": [
    {
     "data": {
      "text/plain": [
       "Error Free    280\n",
       "Defective      20\n",
       "Name: India, dtype: int64"
      ]
     },
     "execution_count": 17,
     "metadata": {},
     "output_type": "execute_result"
    }
   ],
   "source": [
    "df4.India.value_counts()"
   ]
  },
  {
   "cell_type": "code",
   "execution_count": 18,
   "id": "8675c969",
   "metadata": {},
   "outputs": [],
   "source": [
    "rec=np.array([[271,267,269,280],\n",
    "             [29,33,31,20]])"
   ]
  },
  {
   "cell_type": "code",
   "execution_count": 19,
   "id": "cc5f32aa",
   "metadata": {},
   "outputs": [
    {
     "data": {
      "text/plain": [
       "(3.858960685820355,\n",
       " 0.2771020991233135,\n",
       " 3,\n",
       " array([[271.75, 271.75, 271.75, 271.75],\n",
       "        [ 28.25,  28.25,  28.25,  28.25]]))"
      ]
     },
     "execution_count": 19,
     "metadata": {},
     "output_type": "execute_result"
    }
   ],
   "source": [
    "chi2_contingency(rec)"
   ]
  },
  {
   "cell_type": "markdown",
   "id": "0b1748ea",
   "metadata": {},
   "source": [
    "P value(0.27) is greter the Significance level(0.05).\n",
    "Hence null hypothesis cannot be rejected"
   ]
  }
 ],
 "metadata": {
  "kernelspec": {
   "display_name": "Python 3",
   "language": "python",
   "name": "python3"
  },
  "language_info": {
   "codemirror_mode": {
    "name": "ipython",
    "version": 3
   },
   "file_extension": ".py",
   "mimetype": "text/x-python",
   "name": "python",
   "nbconvert_exporter": "python",
   "pygments_lexer": "ipython3",
   "version": "3.8.8"
  }
 },
 "nbformat": 4,
 "nbformat_minor": 5
}
